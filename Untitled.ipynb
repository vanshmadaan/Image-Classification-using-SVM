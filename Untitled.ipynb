{
 "cells": [
  {
   "cell_type": "code",
   "execution_count": 107,
   "metadata": {},
   "outputs": [],
   "source": [
    "#We will use onevsone classification technique and we have a dataset which has 4 classes [Dog,Cat,Horse,Human]"
   ]
  },
  {
   "cell_type": "markdown",
   "metadata": {},
   "source": [
    "## Dataset Preparation "
   ]
  },
  {
   "cell_type": "code",
   "execution_count": 31,
   "metadata": {},
   "outputs": [],
   "source": [
    "import numpy as np\n",
    "import os\n",
    "from pathlib import Path\n",
    "from keras.preprocessing import image\n",
    "from matplotlib import pyplot as plt\n",
    "\n",
    "#For iterating over folders and working with files, there are two important files os and pathlib. we can use either or both of them."
   ]
  },
  {
   "cell_type": "code",
   "execution_count": null,
   "metadata": {},
   "outputs": [],
   "source": []
  },
  {
   "cell_type": "code",
   "execution_count": 32,
   "metadata": {},
   "outputs": [],
   "source": [
    "p = Path(\"Datasets\")\n",
    "\n",
    "#print(p)     It is like a string but it is an object of path class\n",
    "\n",
    "dirs = p.glob(\"*\")   #This glob method accepts one regular expression for what type of files i want to look in this path. This method gives me a generator object and i can iterate over this object and i can get all the values which are inside this folder\n",
    "\n",
    "labels_dict = {\"cat\":0, \"dog\":1, \"horse\":2, \"human\":3}\n",
    "image_data = []\n",
    "labels = []\n",
    "\n",
    "for folder_dir in dirs:\n",
    "    #print(folder_name)  This gives all the folders which are inside the datasets folder\n",
    "    \n",
    "    #We now want to extract label. So when we have images, we do not have explicit labels so we need to generate labels from the folder names (eg: there's a cats folder which has around 200 images, so for all these 200 images we will generate a label of 'cat'), so we are going to use a split fucntion and we are going to extract the last word from it\n",
    "    \n",
    "    label = str(folder_dir).split(\"\\\\\")[-1][:-1]\n",
    "    #print(label)\n",
    "    \n",
    "    #Now, the next task is to iterate inside those folders\n",
    "    \n",
    "    for img_path in folder_dir.glob(\"*.jpg\"):  #For every image inside the folder, we need to look at all the .jpg files\n",
    "        #print(img_path)   We are getting the path of every image\n",
    "        \n",
    "    #Now we need to read the images    \n",
    "        img = image.load_img(img_path,target_size=(32,32))   #Here, we use target_size because these images are of different sizes and we want them to be in a standard size\n",
    "        \n",
    "        img_array = image.img_to_array(img)  #Now we have a image array for every image (eg: if we have a dog image, we are going to get one RGB image and we will have the value for all the three channels, so we are going to get some (100x100x3) image) \n",
    "        \n",
    "        image_data.append(img_array)\n",
    "        labels.append(labels_dict[label])"
   ]
  },
  {
   "cell_type": "code",
   "execution_count": null,
   "metadata": {},
   "outputs": [],
   "source": []
  },
  {
   "cell_type": "code",
   "execution_count": 33,
   "metadata": {},
   "outputs": [
    {
     "name": "stdout",
     "output_type": "stream",
     "text": [
      "808\n",
      "808\n"
     ]
    }
   ],
   "source": [
    "print(len(image_data))\n",
    "print(len(labels))"
   ]
  },
  {
   "cell_type": "code",
   "execution_count": 34,
   "metadata": {},
   "outputs": [
    {
     "name": "stdout",
     "output_type": "stream",
     "text": [
      "[0, 0, 0, 0, 0, 0, 0, 0, 0, 0, 0, 0, 0, 0, 0, 0, 0, 0, 0, 0, 0, 0, 0, 0, 0, 0, 0, 0, 0, 0, 0, 0, 0, 0, 0, 0, 0, 0, 0, 0, 0, 0, 0, 0, 0, 0, 0, 0, 0, 0, 0, 0, 0, 0, 0, 0, 0, 0, 0, 0, 0, 0, 0, 0, 0, 0, 0, 0, 0, 0, 0, 0, 0, 0, 0, 0, 0, 0, 0, 0, 0, 0, 0, 0, 0, 0, 0, 0, 0, 0, 0, 0, 0, 0, 0, 0, 0, 0, 0, 0, 0, 0, 0, 0, 0, 0, 0, 0, 0, 0, 0, 0, 0, 0, 0, 0, 0, 0, 0, 0, 0, 0, 0, 0, 0, 0, 0, 0, 0, 0, 0, 0, 0, 0, 0, 0, 0, 0, 0, 0, 0, 0, 0, 0, 0, 0, 0, 0, 0, 0, 0, 0, 0, 0, 0, 0, 0, 0, 0, 0, 0, 0, 0, 0, 0, 0, 0, 0, 0, 0, 0, 0, 0, 0, 0, 0, 0, 0, 0, 0, 0, 0, 0, 0, 0, 0, 0, 0, 0, 0, 0, 0, 0, 0, 0, 0, 0, 0, 0, 0, 0, 0, 1, 1, 1, 1, 1, 1, 1, 1, 1, 1, 1, 1, 1, 1, 1, 1, 1, 1, 1, 1, 1, 1, 1, 1, 1, 1, 1, 1, 1, 1, 1, 1, 1, 1, 1, 1, 1, 1, 1, 1, 1, 1, 1, 1, 1, 1, 1, 1, 1, 1, 1, 1, 1, 1, 1, 1, 1, 1, 1, 1, 1, 1, 1, 1, 1, 1, 1, 1, 1, 1, 1, 1, 1, 1, 1, 1, 1, 1, 1, 1, 1, 1, 1, 1, 1, 1, 1, 1, 1, 1, 1, 1, 1, 1, 1, 1, 1, 1, 1, 1, 1, 1, 1, 1, 1, 1, 1, 1, 1, 1, 1, 1, 1, 1, 1, 1, 1, 1, 1, 1, 1, 1, 1, 1, 1, 1, 1, 1, 1, 1, 1, 1, 1, 1, 1, 1, 1, 1, 1, 1, 1, 1, 1, 1, 1, 1, 1, 1, 1, 1, 1, 1, 1, 1, 1, 1, 1, 1, 1, 1, 1, 1, 1, 1, 1, 1, 1, 1, 1, 1, 1, 1, 1, 1, 1, 1, 1, 1, 1, 1, 1, 1, 1, 1, 1, 1, 1, 1, 1, 1, 1, 1, 1, 1, 1, 1, 1, 1, 1, 1, 1, 1, 2, 2, 2, 2, 2, 2, 2, 2, 2, 2, 2, 2, 2, 2, 2, 2, 2, 2, 2, 2, 2, 2, 2, 2, 2, 2, 2, 2, 2, 2, 2, 2, 2, 2, 2, 2, 2, 2, 2, 2, 2, 2, 2, 2, 2, 2, 2, 2, 2, 2, 2, 2, 2, 2, 2, 2, 2, 2, 2, 2, 2, 2, 2, 2, 2, 2, 2, 2, 2, 2, 2, 2, 2, 2, 2, 2, 2, 2, 2, 2, 2, 2, 2, 2, 2, 2, 2, 2, 2, 2, 2, 2, 2, 2, 2, 2, 2, 2, 2, 2, 2, 2, 2, 2, 2, 2, 2, 2, 2, 2, 2, 2, 2, 2, 2, 2, 2, 2, 2, 2, 2, 2, 2, 2, 2, 2, 2, 2, 2, 2, 2, 2, 2, 2, 2, 2, 2, 2, 2, 2, 2, 2, 2, 2, 2, 2, 2, 2, 2, 2, 2, 2, 2, 2, 2, 2, 2, 2, 2, 2, 2, 2, 2, 2, 2, 2, 2, 2, 2, 2, 2, 2, 2, 2, 2, 2, 2, 2, 2, 2, 2, 2, 2, 2, 2, 2, 2, 2, 2, 2, 2, 2, 2, 2, 2, 2, 2, 2, 2, 2, 2, 2, 3, 3, 3, 3, 3, 3, 3, 3, 3, 3, 3, 3, 3, 3, 3, 3, 3, 3, 3, 3, 3, 3, 3, 3, 3, 3, 3, 3, 3, 3, 3, 3, 3, 3, 3, 3, 3, 3, 3, 3, 3, 3, 3, 3, 3, 3, 3, 3, 3, 3, 3, 3, 3, 3, 3, 3, 3, 3, 3, 3, 3, 3, 3, 3, 3, 3, 3, 3, 3, 3, 3, 3, 3, 3, 3, 3, 3, 3, 3, 3, 3, 3, 3, 3, 3, 3, 3, 3, 3, 3, 3, 3, 3, 3, 3, 3, 3, 3, 3, 3, 3, 3, 3, 3, 3, 3, 3, 3, 3, 3, 3, 3, 3, 3, 3, 3, 3, 3, 3, 3, 3, 3, 3, 3, 3, 3, 3, 3, 3, 3, 3, 3, 3, 3, 3, 3, 3, 3, 3, 3, 3, 3, 3, 3, 3, 3, 3, 3, 3, 3, 3, 3, 3, 3, 3, 3, 3, 3, 3, 3, 3, 3, 3, 3, 3, 3, 3, 3, 3, 3, 3, 3, 3, 3, 3, 3, 3, 3, 3, 3, 3, 3, 3, 3, 3, 3, 3, 3, 3, 3, 3, 3, 3, 3, 3, 3, 3, 3, 3, 3, 3, 3]\n"
     ]
    }
   ],
   "source": [
    "print(labels)"
   ]
  },
  {
   "cell_type": "code",
   "execution_count": null,
   "metadata": {},
   "outputs": [],
   "source": []
  },
  {
   "cell_type": "markdown",
   "metadata": {},
   "source": [
    "### Convert this data into a numpy array -"
   ]
  },
  {
   "cell_type": "code",
   "execution_count": 35,
   "metadata": {},
   "outputs": [
    {
     "name": "stdout",
     "output_type": "stream",
     "text": [
      "(808, 32, 32, 3) (808,)\n"
     ]
    }
   ],
   "source": [
    "image_data  =np.array(image_data,dtype='float32')/255.0\n",
    "labels = np.array(labels)\n",
    "\n",
    "print(image_data.shape, labels.shape)   #We have 808 images, each image has 100x100 size with 3 channels (100x100x3) "
   ]
  },
  {
   "cell_type": "code",
   "execution_count": null,
   "metadata": {},
   "outputs": [],
   "source": []
  },
  {
   "cell_type": "markdown",
   "metadata": {},
   "source": [
    "### Randomly shuffle data -"
   ]
  },
  {
   "cell_type": "code",
   "execution_count": 36,
   "metadata": {},
   "outputs": [],
   "source": [
    "import random\n",
    "\n",
    "#Suppose we have a cat image (c1) & it has a label: 0 and dog (d1) with label :1 and cat (c2) with label:0 .  SO, we want to shuffle these data points but we also want that these indeces (0,1,2,3) should be shuffled in the same order and we cannot randomly shuffle the indexes because that will randomly disturb your mapping. So, we are going to combine/zip them (Eg: c1:0) and then we are going to shuffle the pairs"
   ]
  },
  {
   "cell_type": "code",
   "execution_count": 37,
   "metadata": {},
   "outputs": [],
   "source": [
    "combined = list(zip(image_data,labels))\n",
    "random.shuffle(combined)\n",
    "\n",
    "#Unzip\n",
    "image_data[:],labels[:] = zip(*combined)  #This (*) is used to unzip anything which has been zipped and the 1st part will go into the images and the 2nd part will go into the labels"
   ]
  },
  {
   "cell_type": "code",
   "execution_count": null,
   "metadata": {},
   "outputs": [],
   "source": []
  },
  {
   "cell_type": "code",
   "execution_count": null,
   "metadata": {},
   "outputs": [],
   "source": []
  },
  {
   "cell_type": "markdown",
   "metadata": {},
   "source": [
    "### Visualise this data -"
   ]
  },
  {
   "cell_type": "code",
   "execution_count": 38,
   "metadata": {},
   "outputs": [
    {
     "data": {
      "image/png": "[encoded data removed]",
      "text/plain": [
       "<Figure size 432x288 with 1 Axes>"
      ]
     },
     "metadata": {
      "needs_background": "light"
     },
     "output_type": "display_data"
    },
    {
     "data": {
      "image/png": "[encoded data removed]",
      "text/plain": [
       "<Figure size 432x288 with 1 Axes>"
      ]
     },
     "metadata": {
      "needs_background": "light"
     },
     "output_type": "display_data"
    },
    {
     "data": {
      "image/png": "[encoded data removed]",
      "text/plain": [
       "<Figure size 432x288 with 1 Axes>"
      ]
     },
     "metadata": {
      "needs_background": "light"
     },
     "output_type": "display_data"
    },
    {
     "data": {
      "image/png": "[encoded data removed]",
      "text/plain": [
       "<Figure size 432x288 with 1 Axes>"
      ]
     },
     "metadata": {
      "needs_background": "light"
     },
     "output_type": "display_data"
    },
    {
     "data": {
      "image/png": "[encoded data removed]",
      "text/plain": [
       "<Figure size 432x288 with 1 Axes>"
      ]
     },
     "metadata": {
      "needs_background": "light"
     },
     "output_type": "display_data"
    },
    {
     "data": {
      "image/png": "[encoded data removed]",
      "text/plain": [
       "<Figure size 432x288 with 1 Axes>"
      ]
     },
     "metadata": {
      "needs_background": "light"
     },
     "output_type": "display_data"
    },
    {
     "data": {
      "image/png": "[encoded data removed]",
      "text/plain": [
       "<Figure size 432x288 with 1 Axes>"
      ]
     },
     "metadata": {
      "needs_background": "light"
     },
     "output_type": "display_data"
    },
    {
     "data": {
      "image/png": "[encoded data removed]",
      "text/plain": [
       "<Figure size 432x288 with 1 Axes>"
      ]
     },
     "metadata": {
      "needs_background": "light"
     },
     "output_type": "display_data"
    },
    {
     "data": {
      "image/png": "[encoded data removed]",
      "text/plain": [
       "<Figure size 432x288 with 1 Axes>"
      ]
     },
     "metadata": {
      "needs_background": "light"
     },
     "output_type": "display_data"
    },
    {
     "data": {
      "image/png": "[encoded data removed]",
      "text/plain": [
       "<Figure size 432x288 with 1 Axes>"
      ]
     },
     "metadata": {
      "needs_background": "light"
     },
     "output_type": "display_data"
    }
   ],
   "source": [
    "def drawImg(img):\n",
    "    plt.imshow(img)\n",
    "    plt.axis(\"off\")\n",
    "    plt.show()\n",
    "    return \n",
    "\n",
    "for i in range(10):\n",
    "    drawImg(image_data[i])"
   ]
  },
  {
   "cell_type": "code",
   "execution_count": null,
   "metadata": {},
   "outputs": [],
   "source": []
  },
  {
   "cell_type": "code",
   "execution_count": null,
   "metadata": {},
   "outputs": [],
   "source": []
  },
  {
   "cell_type": "markdown",
   "metadata": {},
   "source": [
    "## SVM Classifier -"
   ]
  },
  {
   "cell_type": "code",
   "execution_count": 39,
   "metadata": {},
   "outputs": [],
   "source": [
    "class SVM:\n",
    "    \n",
    "    def __init__(self,C=1.0):    #Here, C is the parameter which talks about how much we want to penalise the outliers\n",
    "        self.C = C\n",
    "        self.W = 0    #Here, W is the weights\n",
    "        self.b = 0\n",
    "        \n",
    "        \n",
    "    def hingeLoss(self,W,b,X,Y):    #The loss we talked about in SVM was hinge loss     \n",
    "        \n",
    "        loss = 0.0\n",
    "        m = X.shape[0]\n",
    "        \n",
    "        loss += .5*np.dot(W,W.T)\n",
    "        \n",
    "        for i in range(m):\n",
    "            ti = Y[i]*(np.dot(W,X[i].T)+b) #ti should be scalar because we are computing ti for every example, Y is the label and ti = label*scalar. \n",
    "            loss+= self.C*max(0,(1-ti))\n",
    "        \n",
    "        return loss[0][0]\n",
    "            \n",
    "      \n",
    "    def fit(self,X,Y,batch_size=100,learning_rate=0.001,maxItr = 300):#we want to apply batch GD, then we can specify the batch size. In this method, we are going to extract how many features we have \n",
    "    \n",
    "        no_of_features = X.shape[1]\n",
    "        no_of_samples = X.shape[0]\n",
    "        \n",
    "        n = learning_rate\n",
    "        c = self.C   #Here, c is the coefficient of penalty\n",
    "        \n",
    "        #init the model parameters\n",
    "        \n",
    "        W= np.zeros((1,no_of_features))    #Here, 1 is the number of rows (W is the weight matrix)\n",
    "        bias = 0\n",
    "        \n",
    "        print(self.hingeLoss(W,bias,X,Y))\n",
    "        \n",
    "        #Weight and bias update rule -\n",
    "        \n",
    "        losses = []   #We defined array of losses, where we store every loss so that we can plot what loss we have made or whether we are able to reduce loss or not \n",
    "        \n",
    "        for i in range(maxItr):\n",
    "            #Training loop\n",
    "            \n",
    "            #In this loop, we are going to compute loss at the beginning of training \n",
    "            l = self.hingeLoss(W,bias,X,Y)\n",
    "            losses.append(l)\n",
    "            \n",
    "            #We need to implement Batch GD because this technique has been given in the paper with random shuffling\n",
    "            ids = np.arange(no_of_samples)\n",
    "            np.random.shuffle(ids)        #After randomly shuffling the examples, THEN we are going to pick first batch and compute the gradient over these examples, update our weights and biases, THEN we're going to iterate over next batch, compute gradients and update our weights and biases and so on. So, we are going to iterate over all the batches in one epoch\n",
    "            \n",
    "            for batch_start in range(0,no_of_samples,batch_size):    #Here, batch_start is basically one index\n",
    "                #Assume 0 gradient for the batch\n",
    "                gradw = 0    #Gradient wrt w\n",
    "                gradb = 0    #Gradient wrt b\n",
    "                \n",
    "                #Iterate over all examples in the mini batch\n",
    "                for j in range(batch_start,batch_start+batch_size):\n",
    "                    if j < no_of_samples: \n",
    "                        i = ids[j]\n",
    "                        ti = Y[i]*(np.dot(W,X[i].T)+bias)\n",
    "                       \n",
    "                        if ti>1:\n",
    "                            gradw += 0\n",
    "                            gradb += 0\n",
    "                        else:       \n",
    "                            gradw += c*Y[i]*X[i]\n",
    "                            gradb += c*Y[i]\n",
    "                            \n",
    "                #Gradient for the batch is ready! Update W,B\n",
    "                \n",
    "                W = W - n*W + n*gradw\n",
    "                bias = bias + n*gradb\n",
    "                \n",
    "                #After we have done 1 epoch, we have iterated over all the batches and we have updated weights and biases (how much time? - total number of examples/batch size times)\n",
    "                \n",
    "        self.W = W\n",
    "        self.b = bias\n",
    "        return W,bias,losses"
   ]
  },
  {
   "cell_type": "code",
   "execution_count": null,
   "metadata": {},
   "outputs": [],
   "source": []
  },
  {
   "cell_type": "markdown",
   "metadata": {},
   "source": [
    "### Since SVM is a binary classifier, we need to convert data for ONEvsONE classification!"
   ]
  },
  {
   "cell_type": "markdown",
   "metadata": {},
   "source": [
    "#In one-vs-one classification, we learnt that if you have data which has multiple classes, then we will train nc2 classifiers each having two types of datapoints (+1,-1) and we have to do some kind of mapping and everytime we are going to send data which has only have two classes & those should be labelled as -1 and +1.\n",
    "\n",
    "#The first thing we are going to do is we're going to group all the datapoints which are of the same class so that we can extract them. SO, we are going to make a data dictionary which has class label as the key and all the data points in the value (so its going to be a list)."
   ]
  },
  {
   "cell_type": "code",
   "execution_count": null,
   "metadata": {},
   "outputs": [],
   "source": []
  },
  {
   "cell_type": "code",
   "execution_count": 40,
   "metadata": {},
   "outputs": [
    {
     "name": "stdout",
     "output_type": "stream",
     "text": [
      "(808, 3072)\n",
      "(808,)\n"
     ]
    }
   ],
   "source": [
    "M = image_data.shape[0]   #M is the number of samples (Total number of examples)\n",
    "image_data = image_data.reshape(M,-1)   #Here, we have flattened every image into a single row because our linear classifer will accept these type of features \n",
    "print(image_data.shape)\n",
    "print(labels.shape)\n",
    "\n",
    "#Now, every example has 30000 features. So, we can either reduce the dimensionality of the data or we can do with small size images\n",
    "#Now, we have reduced the size by (32,32). so now we have 3072 features"
   ]
  },
  {
   "cell_type": "code",
   "execution_count": 41,
   "metadata": {},
   "outputs": [
    {
     "name": "stdout",
     "output_type": "stream",
     "text": [
      "4\n"
     ]
    }
   ],
   "source": [
    "CLASSES = len(np.unique(labels))\n",
    "print(CLASSES)"
   ]
  },
  {
   "cell_type": "code",
   "execution_count": null,
   "metadata": {},
   "outputs": [],
   "source": []
  },
  {
   "cell_type": "code",
   "execution_count": 42,
   "metadata": {},
   "outputs": [],
   "source": [
    "def classWiseData(x,y):\n",
    "    data = {}\n",
    "    \n",
    "    for i in range(CLASSES):\n",
    "        data[i] = []\n",
    "        \n",
    "    for i in range(x.shape[0]):\n",
    "        data[y[i]].append(x[i])\n",
    "        \n",
    "    for k in data.keys():    #data is a dictionary and we are going to iterate over every key and every key is a class label and there are 4 keys [0,1,2,3] \n",
    "        data[k] = np.array(data[k])\n",
    "        \n",
    "    return data    "
   ]
  },
  {
   "cell_type": "code",
   "execution_count": 43,
   "metadata": {},
   "outputs": [],
   "source": [
    "data = classWiseData(image_data,labels)"
   ]
  },
  {
   "cell_type": "code",
   "execution_count": 44,
   "metadata": {},
   "outputs": [
    {
     "name": "stdout",
     "output_type": "stream",
     "text": [
      "(202, 3072)\n",
      "202\n",
      "202\n",
      "202\n"
     ]
    }
   ],
   "source": [
    "print(data[0].shape)\n",
    "print(data[1].shape[0])\n",
    "print(data[2].shape[0])\n",
    "print(data[3].shape[0])\n",
    "\n",
    "#We have 202 images and 3072 features per image"
   ]
  },
  {
   "cell_type": "code",
   "execution_count": null,
   "metadata": {},
   "outputs": [],
   "source": []
  },
  {
   "cell_type": "markdown",
   "metadata": {},
   "source": [
    "### Now we need to feed to our SVM -"
   ]
  },
  {
   "cell_type": "code",
   "execution_count": 45,
   "metadata": {},
   "outputs": [],
   "source": [
    "#We need to create pairs of data"
   ]
  },
  {
   "cell_type": "code",
   "execution_count": 46,
   "metadata": {},
   "outputs": [],
   "source": [
    "def getDataPairForSVM(d1,d2):    #d1 and d2 are data of two classes and we are going to merge them into a single matrix because your svm will need one big array which has data of two classes. SO, we need one x and y matrix. x should have data of two classes and y should have labels like [-1,-1,-1,-1,1,1,1,1] (where -1 is classes d1 and 1 is class d2). \n",
    "    \n",
    "    #\n",
    "    \n",
    "    l1,l2 = d1.shape[0],d2.shape[0]\n",
    "    \n",
    "    samples = l1+l2\n",
    "    features = d1.shape[1]\n",
    "    \n",
    "    data_pair = np.zeros((samples,features))   #data_pair is a matrix\n",
    "    data_labels = np.zeros((samples,))\n",
    "    \n",
    "    data_pair[:l1,:] = d1\n",
    "    data_pair[l1:,:] = d2\n",
    "    \n",
    "    data_labels[:l1] = -1\n",
    "    data_labels[l1:] = +1\n",
    "    \n",
    "    return data_pair,data_labels"
   ]
  },
  {
   "cell_type": "markdown",
   "metadata": {},
   "source": [
    "### The above function combines data of two classes into a single matrix"
   ]
  },
  {
   "cell_type": "code",
   "execution_count": null,
   "metadata": {},
   "outputs": [],
   "source": []
  },
  {
   "cell_type": "markdown",
   "metadata": {},
   "source": [
    "## Training NC2 SVM's Part!"
   ]
  },
  {
   "cell_type": "code",
   "execution_count": 47,
   "metadata": {},
   "outputs": [
    {
     "name": "stdout",
     "output_type": "stream",
     "text": [
      "404.0\n",
      "[404.0, 403.3210568776761, 402.6421514230806, 401.9632914787032, 401.2844602650058, 400.60567912050715, 399.92693473127014, 399.24822835665464, 398.5695687782726, 397.89095057976607, 397.21237819714764, 396.5338479460073, 395.8553432437558, 395.17689404415165, 394.49848107903904, 393.8201029531016, 393.141778515826, 392.46348324630844, 391.7852311851061, 391.10701481308905, 390.4288477094446, 389.75071754673087, 389.07262404945186, 388.51990677225774, 387.8418744147971, 387.28518085702063, 386.84120431069005, 386.16328715824807, 385.5522176763191, 384.9884028889325, 384.46632384695977, 383.944321702393, 383.49373722066895, 383.0999752729187, 382.42410797553526, 381.85362869988927, 381.319287383387, 380.83312966520236, 380.3048309626988, 379.80425241779756, 379.3000096014631, 378.80798748104866, 378.2575307547244, 377.7664429034678, 377.2447072314368, 376.76817015569907, 376.2332709188065, 375.7358502241668, 375.2412066799375, 374.7385047197228, 374.24391833641766, 373.71675438147776, 373.1879535381628, 372.68322882060664, 372.17502253093863, 371.6725040873688, 371.16714318538465, 370.6674314807602, 370.1596278946839, 369.65726815773417, 369.1522445985565, 368.6472538101521, 368.1422921895264, 367.6319197028201, 367.1369380521216, 366.63812443887144, 366.1355209449615, 365.6625056895758, 365.1511206035992, 364.6427722924636, 364.1353306089929, 363.6340053914215, 363.1503227360144, 362.7018278245277, 362.238847622609, 361.77589557135985, 361.3320031734595, 360.8834504927229, 360.4276211578862, 359.9916918011484, 359.5790335570782, 359.1444360853461, 358.7622993965338, 358.4484452135722, 358.03049799479976, 357.5572456702929, 357.2338959854154, 356.71941966688473, 356.3354511273583, 355.94230797693893, 355.5815189184874, 355.22677304092565, 354.85867900326207, 354.4812549593999, 354.1284080279043, 353.77638906232744, 353.44249564740625, 353.0585653974703, 352.73720968384146, 352.3964801049148, 352.0494863349252, 351.7582569280201, 351.37442685618754, 351.03409193420043, 350.70841543105695, 350.37811967311, 350.03106173275296, 349.6997445951143, 349.41360338010315, 349.17970968721306, 348.7140874250391, 348.39182825878015, 348.17019898912463, 347.75232515398045, 347.4041398219437, 347.07522975628297, 346.7462329055535, 346.41674985738695, 346.0833561879639, 345.7696342210172, 345.44880115381056, 345.120768283899, 344.80036404952506, 344.54603354012374, 344.19228420323844, 343.9523655249353, 343.8127900143497, 343.3072795671137, 343.05498357161974, 342.7069961375519, 342.4720542333855, 342.1551605529719, 341.8012800697066, 341.52360448490543, 341.3296320643461, 341.03605510025176, 340.68421209993977, 340.4162272825525, 340.1249401005479, 339.8339899711788, 339.6320612486028, 339.32919486746033, 339.1775459322982, 338.8791141280318, 338.7264781208179, 338.29779597659325, 338.2430222755355, 337.8041089345326, 337.6944014673375, 337.4870026521037, 337.07638018999245, 336.9378283140108, 336.5371739287878, 336.2996917111598, 336.0372509993074, 335.796120850223, 335.72930314473354, 335.2751383483882, 335.03572204246893, 334.77607726272146, 334.7534896117964, 334.50174450380257, 334.0427813848165, 333.8042972353991, 333.5623819146411, 333.2993576088485, 333.0457208420444, 332.9330283892346, 332.79345581766654, 332.3281258397977, 332.0852738080652, 331.84442082007797, 331.626667629614, 331.4171880379758, 331.34329269162805, 330.95540304561604, 330.8287811807373, 330.4815129146619, 330.26098489537236, 330.5144651229629, 329.8118880586595, 329.7257543177229, 330.28403454457225, 329.1799421089995, 329.0070379001528, 328.69644642999054, 328.47100219542966, 328.2560707275703, 328.0559650928715, 327.83610261529225, 327.68814025323724, 327.4922060067956, 327.343308305024, 327.48859787975596, 326.8088056822241, 326.6802926483409, 326.401374352313, 326.1802485337052, 325.91671593618776, 325.75972031974396, 325.4960552030784, 325.33280746807975, 325.09234226908, 325.25435554617764, 324.8630621462136, 324.64433748957765, 324.32866756233204, 324.0229740458234, 323.8060976373734, 323.59100041224474, 323.40907065534753, 323.17630823513343, 323.2073521086589, 322.78273304050043, 322.527770911989, 323.03954289293915, 323.5062800452815, 322.6155531092154, 321.8135319435759, 321.8412877545778, 321.5566224759144, 321.34779292229865, 321.0632366072989, 320.7007359723043, 320.6952258152693, 320.37320165143177, 320.56828386624403, 319.938703829598, 319.94884073948725, 319.5739459353403, 319.56631609125503, 319.1355441945785, 318.9699151609516, 318.70782951532055, 318.50735996211364, 319.0135416708854, 318.23093771784534, 317.9810184270834, 317.7621976001331, 317.55821872275845, 317.3759354591896, 317.1226041322933, 316.95019959398775, 317.63443809740374, 316.5283322665982, 316.3273204296973, 316.492543240252, 316.09711020663406, 315.8262269046014, 315.9178795847418, 315.64234654969977, 315.89505614212317, 315.43315530869313, 315.3588767253339, 314.59819829781384, 314.49270896815295, 314.4827417452966, 314.52886121511364, 313.98515520424496, 313.8676896040966, 313.6461831750208, 313.5238538867448, 314.1721397125616, 312.92079425556557, 312.74531361785284, 312.6239356501523, 312.3215238564352, 312.2990157695964, 311.9401024160438, 311.91930494483637, 311.66057566109913, 311.3695529843105, 311.1552715813344, 311.08480202491467, 311.02707987146937, 310.72644893979816, 310.70688471423006, 310.46628846942593, 310.9466408333671, 309.9269997380733, 310.6219916181075, 309.78152045824163, 309.64094395985944, 309.12331664800064, 308.9979297359631, 308.90725665230906, 308.89352913701026, 309.78900974908845, 309.2281170566723, 308.07816783451995, 307.85112785671237, 307.6623030777821, 307.4690429940761, 307.868866045089, 307.20130322912325, 306.9074548216639, 307.03850163218294, 307.6606491776548, 306.9742569074348, 306.2597398514732, 306.0385514855859, 305.8466240662441, 306.07714131061374, 305.81072034674355, 305.5395951418706, 306.1740654058643, 305.05174720117014, 305.3898508774452, 304.542035897216, 305.4818507447031, 304.2161219481128, 304.09450640756137, 304.02255854425783, 304.2754490501404, 303.47722721316154, 303.263700248622, 303.20590494667465, 302.9252873382623, 303.56654408011417, 302.736651180081, 302.3570980202666, 302.3608880433894, 302.0064605667886, 302.68224240752346, 301.64893650101914, 301.48037029667114, 301.55827032892097, 301.13959023229495, 301.08020267766926, 301.2545087054212, 300.7254120055309, 300.87410483003026, 300.222162969808, 300.2674216661653, 299.9034970933923, 299.8760457598396, 299.533339195299, 299.8835082309128, 299.22076852569575, 299.43242367399654, 299.38183838567653, 298.7154055124146, 298.5126914617428, 298.5347489447715, 298.1391996858995, 297.97338132253424, 297.90239062095833, 297.6813029729451, 297.7537678353987, 297.3753224860538, 297.1710949894827, 297.0420512603539, 297.17760412854466, 296.88152625916246, 296.80936780490913, 296.7271370484057, 296.1349313863233, 295.98574137725245, 295.9917695762346, 295.60375597701125, 295.91337366915826, 296.64779958169953, 295.1213083945591, 294.9591693730892, 294.9437237256728, 294.80997895548956, 295.5040161181704, 294.6920836118643, 294.24567512372874, 293.90782874693883, 293.9103999563107, 293.7221725350499, 293.54016954913914, 293.4978690219424, 293.34806233606236, 293.3275260972845, 292.764179316279, 293.31823159525015, 292.38731525933196, 292.7343520680015, 292.2990426183078, 292.1103462031343, 292.72395424363685, 291.5844953725648, 291.93367105508105, 292.871660286459, 291.1836641194332, 291.28085352407834, 290.75018928677696, 291.1225950350748, 292.01338390604326, 290.22907029472066, 290.032357362171, 291.06846615619224, 289.7912737467639, 289.5421790468114, 289.67849336315254, 289.21542542976385, 289.1447158454988, 288.9126493154501, 288.74351600147736, 289.09303521153623, 288.9333492030273, 289.8164956887724, 288.9095387803459, 287.95622812344106, 288.2329517600177, 288.27629043789807, 287.50753547300314, 287.61561394359495, 287.11839004359115, 287.40634389750966, 287.22877964390176, 287.2070958191693, 286.49398468079886, 286.3525465862247, 287.38087935839627, 285.9255121758521, 286.12772872710207, 287.4913992272757, 285.6918148637038, 285.5811165147127, 285.18969579007944, 285.5717953191096, 285.76412167055855, 286.4335012503859, 285.01510175291236, 284.46183992875916, 284.90165554423055, 284.7679071182035, 284.5024234427779, 283.9515733754918, 284.61789435760227, 284.7010406735267, 284.5694051025365, 283.2445371146674, 284.78468500367575, 282.80467787503164, 283.3770408395554, 283.28351090825794, 282.36169487834616, 283.0912426798713, 283.9452281163732, 282.39513779772483, 281.7912161690786, 281.550809417783, 281.43252220296677, 281.55417800485816, 282.7419416366212, 280.8998294822138, 280.8950890133112, 280.58644157855684, 281.5524729068244, 280.28618693298085, 280.1699576866079, 280.19028307798754, 280.02717815941884, 279.77327364035324, 279.65148164214656, 279.32835621131153, 279.92407858324555, 279.77758429662543, 278.88259020299387, 278.7709655126477, 280.1311882370027, 279.5041098265078, 279.1340960425413, 278.09919839242497, 277.9330002703222, 278.0601408713238, 277.8504761364166, 278.2017369919159, 279.4681539232747, 277.1906118821337, 277.0763321546177, 277.57051704634705, 277.3590736692786, 276.6394863700672, 277.25291655732485, 276.796350546385, 277.2108996999531, 276.43931480237745, 276.24903094757497, 276.3641895997601, 276.51349229358334, 276.15625258069605, 277.40231871945684, 275.4740118271251, 277.35719237495084, 275.02200556772794, 276.031339553377, 276.26064682218805, 274.79700934583576, 274.40966948790907, 276.8713503330081, 274.2531566209705, 275.91612626767494, 274.44032802617863, 275.10675012891164, 274.8830905945399, 275.30411737063844, 273.2478490455067, 273.7347053876087, 273.5061550268766, 272.7575341511641, 274.54767472099917, 273.43285591025875, 272.98030237302345, 272.5717894366834, 272.40432652578977, 274.0463498840555, 271.9208634771798, 273.66013177684164, 272.7410579847071, 271.5851279615051, 271.3340923619766, 271.2775758639409, 272.52890426420186, 270.914394786576, 271.5107182645408, 270.6211297394004, 270.73889284620486, 270.3742483032495, 270.296362767428, 274.58845029145743, 270.2790407646252, 273.4322063295277, 270.15146332181763, 270.0033564483669, 269.4019573951935, 270.1767948767822, 269.67693709848623, 269.56123625821294, 268.9033889073039, 269.502308038111, 268.79391116964905, 268.6712665362931, 268.8659987666663, 268.4750330053184, 268.509724472082, 269.8132106819633, 267.95314445681373, 268.08211988034145, 267.6410811021055, 267.62126777057534, 267.84660134490355, 268.0217580330154, 267.16314731097833, 268.112228943632, 267.6687626947997, 266.7887761446124, 266.98718272135415, 267.1288851411985, 266.79386316995965, 267.4511545141612, 266.2469521731747, 266.26838547427576, 266.3001459953135, 265.97703784047997, 265.7465344336231, 269.7283300722707, 272.1233519194945, 265.4241358836303, 270.35956817061697, 265.4834160810931, 265.9658933787853, 264.9410236115639, 265.1943177293634, 264.7060021404264, 265.3608687142225, 265.46442431464357, 264.55321693860236, 264.84680489735956, 264.1387783109157, 264.6045664142309, 264.1371917019638, 265.0194384087936, 263.7108704842757, 263.6520108269619, 263.74894791118163, 264.7208614709586, 263.36585346818975, 265.7576280130962, 263.1804332145188, 263.6091247912612, 262.9416928592109, 263.3768584560329, 267.1359377317303, 262.6675272356099, 262.65327081324085, 262.3017876273347, 262.6545307022446, 262.4430934806108, 261.9988253544206, 262.4547421191915, 263.2843905364798, 262.86144121075074, 261.5225192019541, 261.34128364867775, 261.348593851041, 261.12340828525146, 262.51764848503126, 260.9615237664093, 262.8664556631062, 261.8109642492483, 260.595450838764, 260.502284595951, 260.9820304730182, 260.24164971825076, 266.1567596215321, 260.6294233237859, 260.58238108110004, 260.451838554137, 261.5494080001444, 260.336383153106, 260.84162079581796, 259.43986050275555, 259.28145211863693, 262.04427189168985, 259.87686084512967, 259.1585611873799, 259.7848435184626, 258.81139410716577, 262.52867071407707, 259.54119010519213, 258.5721075877917, 258.39670261359146, 258.37876772713815, 258.19789702284874, 260.6576434956281, 258.6657261446072, 258.38072391510605, 258.5912913386296, 258.540593774934, 258.14414053699636, 257.42143124919863, 257.3095282220851, 257.3722152169239, 257.12876254013287, 256.9742907786178, 257.6333435605937, 258.5811240520763, 257.053862204728, 256.7966900155684, 257.8044378104826, 256.76089590625224, 256.31620786907797, 257.2505911897469, 256.1979821306701, 257.14628560479287, 256.21710625125274, 256.2194242920457, 256.1283780881722, 255.81346938866082, 255.53048613202856, 255.5454047391579, 256.16529799970897, 257.4403434531472, 258.53295770550227, 255.72447332462318, 256.5877989473902, 254.7443846913086, 255.31743615134314, 254.8034493790868, 254.789062796408, 254.47559911196026, 260.05504726511793, 254.06233272985318, 255.05656765087565, 253.95614639591923, 254.5704632780495, 254.12477886209237, 253.60099778509854, 254.3921408432167, 253.37851060051293, 256.1452181628975, 253.19258222326062, 254.12219456831832, 253.66839492829018, 253.11764418197598, 257.75564512626806, 252.81618155763866, 252.6688906615171, 252.48576436148275, 252.40647477672715, 252.54371470059672, 252.17706272915672, 252.28811919921245, 252.82084806758942, 251.94907237463917, 253.10276747469314, 252.74561016850078, 252.03796472371977, 252.38867987552132, 251.450813235012, 252.24417357750374, 252.46631486942823, 251.51541277839155, 256.2072121782011, 251.98255640634633, 251.39120556901884, 252.6320285480033, 251.11195945043963, 257.86726645737457, 250.65101489599965, 251.5158709548796, 253.15208456029018, 251.4608891328443, 250.25518253846644, 250.36042178235442, 250.56196233451595, 250.18199194878247, 250.00708044505436, 249.9345869835537, 254.75485639338214, 250.09028034170632, 249.4256931501458, 250.7307136725637, 249.77607886361062, 249.18048175313254, 249.8640096390999, 249.82560386737254, 249.1126440186068, 248.9985942411284, 249.50253857271784, 248.95264663992648, 248.70301515934324, 248.74687521750357, 248.41202385915372, 248.33027876359844, 249.5291254006924, 249.41877716716428, 248.67047445379424, 248.30775376000827, 247.8156510063539, 250.1720791628317, 247.8117565909653, 247.82439181115836, 247.47712792352903, 247.6838581378434, 249.7075360302199, 247.3110499233195, 248.42342720020918, 248.0503763773823, 247.81532137577867, 249.09806050252632, 247.13956945613398, 246.72159608435956, 247.36565229784725, 246.5416965962888, 246.4299677600023, 246.84744149747198, 246.39807306841763, 246.24511360243548, 246.4549842030355, 247.7961041573167, 246.59818111663097, 245.82774490432288, 245.74379097068953, 246.500814100105, 245.73001614614762, 245.65880544396072, 245.45754051902773, 245.34383842666253, 245.36472123949306, 245.18364612041663, 248.2909814068289, 245.4875651144188, 244.92799690228023, 245.15090598434557, 245.22637622205767, 245.725995170468, 244.6700598170475, 246.87704341256594, 245.69742649333, 244.34847048249463, 245.01657104574065, 244.18788678423775, 244.27041444025772, 244.9227571253852, 243.959122288191, 244.71441768141582, 243.81382096170952, 244.55627031434395, 243.79877495530218, 243.5541017919731, 243.46330342172695, 243.37771399062606, 245.90390108857113, 243.76333209280955, 243.6644965406262, 244.7582087013982, 243.55887096907418, 242.9838208764921, 243.26760142739812, 242.73228583593612, 242.84066102146016, 242.89012993374834, 243.01876633446133, 242.56891232784304, 242.35397316760054, 242.30700651065862, 243.13092757863492, 242.13388390943115, 242.28655700451762, 241.95813103488422, 243.0730436871388, 242.89591713698266, 241.8351723077573, 242.0287011881279, 241.56210623459228, 241.46020802504088, 241.391507786729, 241.92771021086224, 241.20466759250695, 242.9962765420654, 241.80515487618538, 241.53820765241866, 242.16058104301618, 240.86123299015475, 240.78992866205303, 241.17832752677882, 241.0676903933498, 240.52256835670397, 240.582850894401, 243.95607649911707, 242.15171658922264, 241.54157833309603, 240.5217277862188, 240.1634216402621, 240.0342853857584, 240.02507681132127, 239.83582838944207, 241.34068002841727, 239.88170613430603, 240.27230853356605, 240.14445337463, 240.8445367776219, 239.35640455914736, 239.87007415906382, 240.79315920894416, 239.86452086041334, 244.10006558851055, 239.78238803144512, 240.75172488273208, 240.10489481938052, 239.61781185213627, 239.00993375304498, 239.22474388884646, 238.57802240330264, 240.85142529309064, 238.6830255653971, 239.21707888976988, 238.42774242575243, 241.57685841939465, 243.2657572012675, 238.19917617043475, 240.87571247678028, 238.28917090349435, 238.68832098778668, 238.2864089409801, 237.70151078648897, 237.61827285384595, 237.54202530111908, 241.3397475965243, 237.42605049151445, 237.30857082612155, 239.2954892779387, 238.41602727060663, 239.50341942963064, 237.08397365231374, 237.48008690731913, 243.05922418900954, 237.77767256420506, 236.97557471228325, 238.36557072701976, 236.9981710687344, 236.54823216242366, 240.13465559622873, 236.3781303600161, 237.67660829967383, 236.4108821805576, 237.58606419521482, 237.17844765535372, 236.69207590318604, 237.12475710622834, 235.87975739549512, 236.61298633881015, 235.80102188537768, 237.6586967475929, 235.65354529849813, 236.85237160453167, 237.73303907896133, 235.54632446683783, 236.492330365522, 235.40348338489298, 235.14316056408265, 235.22761876807053, 235.4698910221746, 238.64146572265855, 234.945258428194, 238.62296465769072, 235.61723319460705, 236.3615536671651, 237.24899224302746, 234.66074525425412, 234.9645542052452, 234.4751134682225, 234.90014654424104, 234.83849881248804, 234.180722630706, 234.30687274569235, 234.8276708111444, 234.45757143061402, 233.92446839807653, 235.2994271596948, 234.11018260730995, 234.43322673487614, 237.58451370403188, 233.8563011230502, 234.15913302457685, 234.70738205922194, 233.79159931216554, 233.8614342561923, 234.7914567376116, 233.59031305809646, 233.51497092283577, 233.0703204196273, 234.9938580179249, 234.2513809163745, 233.06694059294514, 232.73109531400195, 233.14421505075816, 235.581309719477, 232.92333465822418, 234.61998741908252, 234.3473076595572, 232.37356824821427, 232.91899686877483, 236.73965250129646, 232.56996636456898, 232.88442468586754, 232.65251634004866, 231.93388530999587, 235.46392103258634, 231.92993186082913, 233.87921470826515, 234.40088586801636, 231.62202796598518, 231.55158906503897, 235.21029129634442, 234.0175928934763, 232.29180706362533, 231.72193322936099, 231.45184287419616, 231.93321674941276, 231.39738103823908, 231.0263477635246, 231.21835349647856, 230.98825051974015, 231.1461186050531, 230.98526850096405, 233.0409437059945, 230.6775242584349, 230.59002575342322, 230.77397015459138, 230.50177303718988, 234.21383705333176, 231.41465676421757, 231.67328106719842, 230.20839287357634, 230.5403639689977, 230.17828725867247, 230.0179819497981, 233.85765847240444, 229.98311336519177, 230.04130011049492, 230.01407901419032, 231.44785824287644, 235.28935073051397, 233.80833694349198, 229.7714346393037, 229.46494076534304, 229.72314827976695, 229.30109186801857, 230.19249831986298, 229.514571837284, 230.362456961951, 229.1904713208201, 229.49551904739218, 229.1012243762249, 229.31758179594323, 229.7586432641882, 228.7895539452175, 228.92184822577323, 229.73838897080142, 231.39710463323706, 234.21080971057978, 228.81369821397922, 228.52356750709959]\n"
     ]
    },
    {
     "data": {
      "text/plain": [
       "[<matplotlib.lines.Line2D at 0x23d38c33670>]"
      ]
     },
     "execution_count": 47,
     "metadata": {},
     "output_type": "execute_result"
    },
    {
     "data": {
      "image/png": "[encoded data removed]",
      "text/plain": [
       "<Figure size 432x288 with 1 Axes>"
      ]
     },
     "metadata": {
      "needs_background": "light"
     },
     "output_type": "display_data"
    }
   ],
   "source": [
    "mySVM = SVM()\n",
    "\n",
    "#We are going to generate data for only two classes and see whether the loss is decreasing or not\n",
    "\n",
    "xp, yp = getDataPairForSVM(data[0],data[1])  #data[0] is cats's data and data[1] is dog's data\n",
    "w,b,loss = mySVM.fit(xp,yp,learning_rate=0.00001,maxItr=1000)\n",
    "print(loss)\n",
    "plt.plot(loss)\n",
    "\n",
    "#This will give us an idea whether our function is converging or not\n",
    "#In the output below, we can see that loss is 400 then its 6500, so it means our loss is diverging which clearly means the learning_rate is too high. Default learning_rate in SVM class is 0.001. So, lets try to change the learning_rate first in the mySVM.fit() function above\n",
    "#After changing the learning_rate, the loss is decreasing slowly, but still its going down and maybe we can try to increase the number of epochs/maxItr to 10000 (it was 500 before)\n",
    "#It looks fine now. As these parameters give better results, so put these parameters in trainSVMs() class as well."
   ]
  },
  {
   "cell_type": "code",
   "execution_count": 48,
   "metadata": {},
   "outputs": [],
   "source": [
    "def trainSVMs(x,y):\n",
    "    \n",
    "    svm_classifiers = {}\n",
    "    \n",
    "    for i in range(CLASSES):\n",
    "        svm_classifiers[i] = {}\n",
    "        \n",
    "        for j in range(i+1,CLASSES):    \n",
    "            xpair,ypair = getDataPairForSVM(data[i],data[j])   #We are going to combine the data of ith and jth class into a single matrix (which is xpair) and their labels are in ypair and these labels have been mapped to range (-1,1) so that our svm can work\n",
    "            wts,b,loss = mySVM.fit(xpair,ypair,learning_rate=0.00001,maxItr=10000)   #Now, our model is going to learn weights and biases and its also going to return some loss \n",
    "            svm_classifiers[i][j] = (wts,b)       #Whatever the weights are learned, we are going to store it in the form of a dictionary \n",
    "            \n",
    "            plt.plot(loss)\n",
    "            plt.show()\n",
    "            \n",
    "    return svm_classifiers        "
   ]
  },
  {
   "cell_type": "code",
   "execution_count": null,
   "metadata": {},
   "outputs": [],
   "source": []
  },
  {
   "cell_type": "code",
   "execution_count": 49,
   "metadata": {},
   "outputs": [
    {
     "name": "stdout",
     "output_type": "stream",
     "text": [
      "404.0\n"
     ]
    },
    {
     "data": {
      "image/png": "[encoded data removed]",
      "text/plain": [
       "<Figure size 432x288 with 1 Axes>"
      ]
     },
     "metadata": {
      "needs_background": "light"
     },
     "output_type": "display_data"
    },
    {
     "name": "stdout",
     "output_type": "stream",
     "text": [
      "404.0\n"
     ]
    },
    {
     "data": {
      "image/png": "[encoded data removed]",
      "text/plain": [
       "<Figure size 432x288 with 1 Axes>"
      ]
     },
     "metadata": {
      "needs_background": "light"
     },
     "output_type": "display_data"
    },
    {
     "name": "stdout",
     "output_type": "stream",
     "text": [
      "404.0\n"
     ]
    },
    {
     "data": {
      "image/png": "[encoded data removed]",
      "text/plain": [
       "<Figure size 432x288 with 1 Axes>"
      ]
     },
     "metadata": {
      "needs_background": "light"
     },
     "output_type": "display_data"
    },
    {
     "name": "stdout",
     "output_type": "stream",
     "text": [
      "404.0\n"
     ]
    },
    {
     "data": {
      "image/png": "[encoded data removed]",
      "text/plain": [
       "<Figure size 432x288 with 1 Axes>"
      ]
     },
     "metadata": {
      "needs_background": "light"
     },
     "output_type": "display_data"
    },
    {
     "name": "stdout",
     "output_type": "stream",
     "text": [
      "404.0\n"
     ]
    },
    {
     "data": {
      "image/png": "[encoded data removed]",
      "text/plain": [
       "<Figure size 432x288 with 1 Axes>"
      ]
     },
     "metadata": {
      "needs_background": "light"
     },
     "output_type": "display_data"
    },
    {
     "name": "stdout",
     "output_type": "stream",
     "text": [
      "404.0\n"
     ]
    },
    {
     "data": {
      "image/png": "[encoded data removed]",
      "text/plain": [
       "<Figure size 432x288 with 1 Axes>"
      ]
     },
     "metadata": {
      "needs_background": "light"
     },
     "output_type": "display_data"
    }
   ],
   "source": [
    "svm_classifiers = trainSVMs(image_data,labels)\n",
    "\n",
    "#First plot is for cat and dog class\n",
    "#Second plot is for cat and horse class\n",
    "#And so on..\n",
    "\n",
    "#There are some fluctuations because its a stochastic gradient descent\n",
    "#We have 4c2 classifiers i.e. 6 classifiers and for every classifier loss is decreasing"
   ]
  },
  {
   "cell_type": "code",
   "execution_count": null,
   "metadata": {},
   "outputs": [],
   "source": []
  },
  {
   "cell_type": "code",
   "execution_count": 51,
   "metadata": {},
   "outputs": [
    {
     "name": "stdout",
     "output_type": "stream",
     "text": [
      "(1, 3072)\n",
      "-0.11818000000000016\n"
     ]
    }
   ],
   "source": [
    "cats_dogs = svm_classifiers[0][1]    #Parameters of the model in which the first class we trained was 0 and 1. SO, we sent a matrix which had the data of class 0 (cats) and class 1 (dogs). SO, these are the model parameters for cats and dogs.\n",
    "\n",
    "cats_humans = svm_classifiers[0][3]  #Classifier for cats and humans\n",
    "\n",
    "print(cats_dogs[0].shape)   #Weights (There are 3072 weights because there are these many features)\n",
    "print(cats_dogs[1])   #Biases (Bias is a scaler not a matrix)"
   ]
  },
  {
   "cell_type": "code",
   "execution_count": null,
   "metadata": {},
   "outputs": [],
   "source": []
  },
  {
   "cell_type": "code",
   "execution_count": null,
   "metadata": {},
   "outputs": [],
   "source": []
  },
  {
   "cell_type": "markdown",
   "metadata": {},
   "source": [
    "## Prediction -"
   ]
  },
  {
   "cell_type": "code",
   "execution_count": 52,
   "metadata": {},
   "outputs": [],
   "source": [
    "#binaryPredict is going to be an actual prediction of svm because it can give you only two classes (-1,1)\n",
    "\n",
    "def binaryPredict(x,w,b):\n",
    "    z = np.dot(x,w.T) + b\n",
    "    \n",
    "    if z>= 0:\n",
    "         return 1\n",
    "    else:\n",
    "        return -1"
   ]
  },
  {
   "cell_type": "code",
   "execution_count": 53,
   "metadata": {},
   "outputs": [],
   "source": [
    "def predict(x):\n",
    "    \n",
    "    count = np.zeros((CLASSES,))   #count is an array\n",
    "    \n",
    "    for i in range(CLASSES):\n",
    "        for j in range(i+1,CLASSES):\n",
    "            \n",
    "            w,b = svm_classifiers[i][j]\n",
    "            \n",
    "            #Take a majority prediction from each of the classifiers. We are going to see which classifier has predicted which class\n",
    "            z = binaryPredict(x,w,b)\n",
    "            \n",
    "            #While training we sent data such that we said make a pair of class i and j and we labelled i as -1 and j as +1. So, while prediction if z comes out to be +1 it means, it belongs to class j\n",
    "            \n",
    "            if(z==1):  #if z==1 that means we have to increment count of j/1\n",
    "                count[j] += 1\n",
    "                \n",
    "            else:\n",
    "                count[i] += 1\n",
    "    \n",
    "    final_prediction = np.argmax(count)\n",
    "    #print(count)\n",
    "    return final_prediction"
   ]
  },
  {
   "cell_type": "code",
   "execution_count": null,
   "metadata": {},
   "outputs": [],
   "source": []
  },
  {
   "cell_type": "code",
   "execution_count": 54,
   "metadata": {},
   "outputs": [
    {
     "name": "stdout",
     "output_type": "stream",
     "text": [
      "0\n",
      "2\n"
     ]
    }
   ],
   "source": [
    "print(predict(image_data[0]))\n",
    "print(labels[0])"
   ]
  },
  {
   "cell_type": "code",
   "execution_count": null,
   "metadata": {},
   "outputs": [],
   "source": []
  },
  {
   "cell_type": "code",
   "execution_count": 55,
   "metadata": {},
   "outputs": [],
   "source": [
    "def accuracy(x,y):\n",
    "    count = 0\n",
    "    \n",
    "    for i in range(x.shape[0]):    #Go through every example, find the prediction\n",
    "        prediction = predict(x[i])\n",
    "        if(prediction==y[i]):\n",
    "             count +=1\n",
    "            \n",
    "    return count/x.shape[0]        #Final accuracy is total correct predictions divided by total number of examples"
   ]
  },
  {
   "cell_type": "code",
   "execution_count": null,
   "metadata": {},
   "outputs": [],
   "source": []
  },
  {
   "cell_type": "code",
   "execution_count": 56,
   "metadata": {},
   "outputs": [
    {
     "data": {
      "text/plain": [
       "0.6534653465346535"
      ]
     },
     "execution_count": 56,
     "metadata": {},
     "output_type": "execute_result"
    }
   ],
   "source": [
    "accuracy(image_data,labels)   #Earlier the accuracy was around 37% and now the accuracy is around 64% which is pretty good"
   ]
  },
  {
   "cell_type": "code",
   "execution_count": null,
   "metadata": {},
   "outputs": [],
   "source": []
  },
  {
   "cell_type": "code",
   "execution_count": null,
   "metadata": {},
   "outputs": [],
   "source": []
  },
  {
   "cell_type": "markdown",
   "metadata": {},
   "source": [
    "## SVM using SK-learn -"
   ]
  },
  {
   "cell_type": "code",
   "execution_count": 64,
   "metadata": {},
   "outputs": [],
   "source": [
    "from sklearn import svm"
   ]
  },
  {
   "cell_type": "code",
   "execution_count": 65,
   "metadata": {},
   "outputs": [],
   "source": [
    "svm_classifier = svm.SVC(kernel='linear',C=1.0)  #Here, C is penalty"
   ]
  },
  {
   "cell_type": "code",
   "execution_count": 66,
   "metadata": {},
   "outputs": [
    {
     "data": {
      "text/plain": [
       "0.6547029702970297"
      ]
     },
     "execution_count": 66,
     "metadata": {},
     "output_type": "execute_result"
    }
   ],
   "source": [
    "svm_classifier.fit(image_data,labels)\n",
    "svm_classifier.score(image_data,labels)\n",
    "\n",
    "#Its going to handle the multiclass classification by itself\n",
    "#Accuracy given by sk-learn classifier is 64% which means our algorithm is doing pretty good in terms of accuracy and we saw how we can tune the learning_rate according to the dataset"
   ]
  },
  {
   "cell_type": "code",
   "execution_count": null,
   "metadata": {},
   "outputs": [],
   "source": []
  },
  {
   "cell_type": "markdown",
   "metadata": {},
   "source": [
    "### In this project we saw how to do ONEvsONE classification, how to built Nc2 classifiers and how you can store weights in the form of a dictionary of weights for every classifier "
   ]
  },
  {
   "cell_type": "code",
   "execution_count": null,
   "metadata": {},
   "outputs": [],
   "source": []
  },
  {
   "cell_type": "code",
   "execution_count": null,
   "metadata": {},
   "outputs": [],
   "source": []
  }
 ],
 "metadata": {
  "kernelspec": {
   "display_name": "Python 3",
   "language": "python",
   "name": "python3"
  },
  "language_info": {
   "codemirror_mode": {
    "name": "ipython",
    "version": 3
   },
   "file_extension": ".py",
   "mimetype": "text/x-python",
   "name": "python",
   "nbconvert_exporter": "python",
   "pygments_lexer": "ipython3",
   "version": "3.8.5"
  }
 },
 "nbformat": 4,
 "nbformat_minor": 4
}
